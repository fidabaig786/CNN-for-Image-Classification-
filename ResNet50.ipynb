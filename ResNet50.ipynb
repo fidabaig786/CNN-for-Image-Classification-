{
 "cells": [
  {
   "cell_type": "markdown",
   "id": "e6eb7489",
   "metadata": {
    "id": "e6eb7489"
   },
   "source": [
    "# Importing Libraries"
   ]
  },
  {
   "cell_type": "code",
   "execution_count": 1,
   "id": "m1UlikR3hxYb",
   "metadata": {
    "colab": {
     "base_uri": "https://localhost:8080/"
    },
    "id": "m1UlikR3hxYb",
    "outputId": "e7c8bff1-9215-44da-ccf2-308b708a6e9b"
   },
   "outputs": [
    {
     "name": "stdout",
     "output_type": "stream",
     "text": [
      "Mounted at /content/drive\n"
     ]
    }
   ],
   "source": [
    "from google.colab import drive\n",
    "drive.mount('/content/drive')"
   ]
  },
  {
   "cell_type": "code",
   "execution_count": 2,
   "id": "RPfQi_67iNaA",
   "metadata": {
    "colab": {
     "base_uri": "https://localhost:8080/"
    },
    "id": "RPfQi_67iNaA",
    "outputId": "43835eb3-3613-4868-dfa3-870a152d60bb"
   },
   "outputs": [
    {
     "name": "stdout",
     "output_type": "stream",
     "text": [
      "Files extracted successfully: ['train', '__MACOSX']\n"
     ]
    }
   ],
   "source": [
    "import zipfile\n",
    "import os\n",
    "\n",
    "# Path to the zip file in your Google Drive\n",
    "zip_file_path = '/content/drive/My Drive/train.zip'\n",
    "\n",
    "# Destination directory where you want to extract the files\n",
    "extracted_dir_path = '/content/train'\n",
    "\n",
    "# Create the destination directory if it doesn't exist\n",
    "os.makedirs(extracted_dir_path, exist_ok=True)\n",
    "\n",
    "# Extract the zip file\n",
    "with zipfile.ZipFile(zip_file_path, 'r') as zip_ref:\n",
    "    zip_ref.extractall(extracted_dir_path)\n",
    "\n",
    "# List the contents of the extracted directory\n",
    "extracted_files = os.listdir(extracted_dir_path)\n",
    "print(\"Files extracted successfully:\", extracted_files)\n"
   ]
  },
  {
   "cell_type": "code",
   "execution_count": null,
   "id": "wEOqqSJcm29K",
   "metadata": {
    "colab": {
     "base_uri": "https://localhost:8080/"
    },
    "id": "wEOqqSJcm29K",
    "outputId": "16cd8dcb-f0dc-49a1-bf8e-c245cbdfbf51"
   },
   "outputs": [
    {
     "data": {
      "text/plain": [
       "['train', '__MACOSX']"
      ]
     },
     "execution_count": 34,
     "metadata": {},
     "output_type": "execute_result"
    }
   ],
   "source": [
    "extracted_files"
   ]
  },
  {
   "cell_type": "code",
   "execution_count": 3,
   "id": "sG84w5QxLFRY",
   "metadata": {
    "id": "sG84w5QxLFRY"
   },
   "outputs": [],
   "source": [
    "import os\n",
    "import csv\n",
    "import numpy as np\n",
    "from PIL import Image\n",
    "from sklearn.model_selection import train_test_split\n",
    "from sklearn.preprocessing import LabelEncoder\n",
    "from keras.applications import ResNet50\n",
    "from keras.layers import Dense, Flatten\n",
    "from keras.models import Sequential\n"
   ]
  },
  {
   "cell_type": "code",
   "execution_count": 4,
   "id": "Olf9qHFZLFdf",
   "metadata": {
    "id": "Olf9qHFZLFdf"
   },
   "outputs": [],
   "source": [
    "data_dir = \"/content/train/train\""
   ]
  },
  {
   "cell_type": "markdown",
   "id": "ecedfc67",
   "metadata": {},
   "source": [
    "# Load images and labels directly into numpy arrays"
   ]
  },
  {
   "cell_type": "code",
   "execution_count": 13,
   "id": "Qgf18mkaLFjk",
   "metadata": {
    "id": "Qgf18mkaLFjk"
   },
   "outputs": [],
   "source": [
    "# Load images and labels directly into numpy arrays\n",
    "X = []\n",
    "y = []\n",
    "\n",
    "for label in os.listdir(data_dir):\n",
    "    label_dir = os.path.join(data_dir, label)\n",
    "    if os.path.isdir(label_dir) and label in ['gls', 'nlb', 'nls']:\n",
    "        for image_file in os.listdir(label_dir):\n",
    "            image_path = os.path.join(label_dir, image_file)\n",
    "            # Check if the file is an image\n",
    "            if image_file.endswith(('.png', '.jpg', '.jpeg')):\n",
    "                image = Image.open(image_path)\n",
    "                image = image.resize((256, 256))\n",
    "                image = np.array(image) / 255.0\n",
    "                X.append(image)\n",
    "                y.append(label)\n",
    "\n",
    "X = np.array(X)\n",
    "y = np.array(y)"
   ]
  },
  {
   "cell_type": "code",
   "execution_count": 14,
   "id": "vRTPJj4uLouD",
   "metadata": {
    "colab": {
     "base_uri": "https://localhost:8080/"
    },
    "id": "vRTPJj4uLouD",
    "outputId": "a03f5738-2c89-4275-c766-3dc963f47e3c"
   },
   "outputs": [
    {
     "data": {
      "text/plain": [
       "array([[[[0.80392157, 0.77254902, 0.76078431],\n",
       "         [0.80784314, 0.77254902, 0.76470588],\n",
       "         [0.8       , 0.76470588, 0.75686275],\n",
       "         ...,\n",
       "         [0.60392157, 0.59607843, 0.60392157],\n",
       "         [0.63529412, 0.62745098, 0.63529412],\n",
       "         [0.63137255, 0.62352941, 0.63137255]],\n",
       "\n",
       "        [[0.81960784, 0.78431373, 0.76470588],\n",
       "         [0.83921569, 0.8       , 0.78431373],\n",
       "         [0.82745098, 0.79215686, 0.77254902],\n",
       "         ...,\n",
       "         [0.57647059, 0.56862745, 0.57254902],\n",
       "         [0.59215686, 0.58431373, 0.58823529],\n",
       "         [0.58823529, 0.58039216, 0.58431373]],\n",
       "\n",
       "        [[0.83529412, 0.80392157, 0.75686275],\n",
       "         [0.85098039, 0.81960784, 0.78039216],\n",
       "         [0.85882353, 0.82352941, 0.79607843],\n",
       "         ...,\n",
       "         [0.5372549 , 0.52941176, 0.53333333],\n",
       "         [0.56470588, 0.55686275, 0.56078431],\n",
       "         [0.55686275, 0.54901961, 0.55294118]],\n",
       "\n",
       "        ...,\n",
       "\n",
       "        [[0.45490196, 0.44705882, 0.45098039],\n",
       "         [0.4627451 , 0.45490196, 0.45882353],\n",
       "         [0.47843137, 0.47058824, 0.4745098 ],\n",
       "         ...,\n",
       "         [0.74509804, 0.74117647, 0.76078431],\n",
       "         [0.7372549 , 0.73333333, 0.75294118],\n",
       "         [0.64705882, 0.64313725, 0.6627451 ]],\n",
       "\n",
       "        [[0.44705882, 0.44313725, 0.43529412],\n",
       "         [0.47058824, 0.46666667, 0.4627451 ],\n",
       "         [0.48627451, 0.47843137, 0.48235294],\n",
       "         ...,\n",
       "         [0.75294118, 0.74901961, 0.76862745],\n",
       "         [0.73333333, 0.72941176, 0.74901961],\n",
       "         [0.67843137, 0.6745098 , 0.69411765]],\n",
       "\n",
       "        [[0.45490196, 0.45098039, 0.44705882],\n",
       "         [0.48235294, 0.4745098 , 0.47843137],\n",
       "         [0.50980392, 0.50196078, 0.50980392],\n",
       "         ...,\n",
       "         [0.77254902, 0.76862745, 0.78823529],\n",
       "         [0.74509804, 0.74117647, 0.76078431],\n",
       "         [0.69019608, 0.68627451, 0.70588235]]],\n",
       "\n",
       "\n",
       "       [[[0.73333333, 0.72156863, 0.76470588],\n",
       "         [0.74117647, 0.72941176, 0.76862745],\n",
       "         [0.71372549, 0.70196078, 0.74117647],\n",
       "         ...,\n",
       "         [0.55294118, 0.65882353, 0.47058824],\n",
       "         [0.60784314, 0.69803922, 0.56470588],\n",
       "         [0.60392157, 0.69803922, 0.58039216]],\n",
       "\n",
       "        [[0.68627451, 0.6745098 , 0.71764706],\n",
       "         [0.68235294, 0.67058824, 0.70588235],\n",
       "         [0.67058824, 0.65882353, 0.69411765],\n",
       "         ...,\n",
       "         [0.50588235, 0.59607843, 0.41568627],\n",
       "         [0.4745098 , 0.53333333, 0.42352941],\n",
       "         [0.45098039, 0.50196078, 0.40784314]],\n",
       "\n",
       "        [[0.65098039, 0.63921569, 0.6745098 ],\n",
       "         [0.65098039, 0.63921569, 0.6745098 ],\n",
       "         [0.66666667, 0.65490196, 0.69019608],\n",
       "         ...,\n",
       "         [0.47058824, 0.55686275, 0.38823529],\n",
       "         [0.47058824, 0.53333333, 0.42745098],\n",
       "         [0.45098039, 0.50980392, 0.41960784]],\n",
       "\n",
       "        ...,\n",
       "\n",
       "        [[0.38823529, 0.58823529, 0.05098039],\n",
       "         [0.38431373, 0.57647059, 0.0627451 ],\n",
       "         [0.38431373, 0.57647059, 0.08235294],\n",
       "         ...,\n",
       "         [0.53333333, 0.51372549, 0.52941176],\n",
       "         [0.49803922, 0.48627451, 0.50196078],\n",
       "         [0.44705882, 0.43921569, 0.45882353]],\n",
       "\n",
       "        [[0.39607843, 0.59607843, 0.05098039],\n",
       "         [0.38823529, 0.58431373, 0.05490196],\n",
       "         [0.38431373, 0.58039216, 0.0627451 ],\n",
       "         ...,\n",
       "         [0.4745098 , 0.45882353, 0.47843137],\n",
       "         [0.4       , 0.39607843, 0.41960784],\n",
       "         [0.40784314, 0.40392157, 0.42352941]],\n",
       "\n",
       "        [[0.40784314, 0.60784314, 0.0627451 ],\n",
       "         [0.4       , 0.6       , 0.0627451 ],\n",
       "         [0.38823529, 0.58431373, 0.05490196],\n",
       "         ...,\n",
       "         [0.43137255, 0.42352941, 0.44705882],\n",
       "         [0.36470588, 0.36078431, 0.39215686],\n",
       "         [0.37647059, 0.37254902, 0.39607843]]],\n",
       "\n",
       "\n",
       "       [[[0.71764706, 0.69019608, 0.52941176],\n",
       "         [0.6       , 0.56470588, 0.53333333],\n",
       "         [0.55686275, 0.52941176, 0.50588235],\n",
       "         ...,\n",
       "         [0.32941176, 0.31764706, 0.29411765],\n",
       "         [0.30196078, 0.29019608, 0.27058824],\n",
       "         [0.2745098 , 0.2627451 , 0.23921569]],\n",
       "\n",
       "        [[0.67058824, 0.63529412, 0.52941176],\n",
       "         [0.61568627, 0.58431373, 0.56470588],\n",
       "         [0.62745098, 0.6       , 0.58823529],\n",
       "         ...,\n",
       "         [0.3254902 , 0.30980392, 0.29411765],\n",
       "         [0.29803922, 0.28627451, 0.26666667],\n",
       "         [0.28235294, 0.27058824, 0.25098039]],\n",
       "\n",
       "        [[0.67058824, 0.61960784, 0.56078431],\n",
       "         [0.74117647, 0.70196078, 0.69019608],\n",
       "         [0.84705882, 0.80392157, 0.78431373],\n",
       "         ...,\n",
       "         [0.31372549, 0.30196078, 0.28235294],\n",
       "         [0.29411765, 0.28235294, 0.2627451 ],\n",
       "         [0.28627451, 0.2745098 , 0.25490196]],\n",
       "\n",
       "        ...,\n",
       "\n",
       "        [[0.84705882, 0.8745098 , 0.93333333],\n",
       "         [0.87843137, 0.90196078, 0.96470588],\n",
       "         [0.8627451 , 0.87843137, 0.9372549 ],\n",
       "         ...,\n",
       "         [0.78823529, 0.74901961, 0.72941176],\n",
       "         [0.83137255, 0.78823529, 0.77647059],\n",
       "         [0.67058824, 0.63137255, 0.62352941]],\n",
       "\n",
       "        [[0.84705882, 0.86666667, 0.9254902 ],\n",
       "         [0.88235294, 0.90980392, 0.96862745],\n",
       "         [0.8745098 , 0.90196078, 0.95294118],\n",
       "         ...,\n",
       "         [0.75294118, 0.71372549, 0.70196078],\n",
       "         [0.83529412, 0.79607843, 0.78823529],\n",
       "         [0.72941176, 0.69019608, 0.68235294]],\n",
       "\n",
       "        [[0.84705882, 0.8627451 , 0.91764706],\n",
       "         [0.87843137, 0.90588235, 0.96470588],\n",
       "         [0.88627451, 0.91372549, 0.96862745],\n",
       "         ...,\n",
       "         [0.7254902 , 0.69019608, 0.6745098 ],\n",
       "         [0.84313725, 0.80392157, 0.8       ],\n",
       "         [0.76862745, 0.72941176, 0.72156863]]],\n",
       "\n",
       "\n",
       "       ...,\n",
       "\n",
       "\n",
       "       [[[0.39607843, 0.46666667, 0.35686275],\n",
       "         [0.4745098 , 0.54901961, 0.43137255],\n",
       "         [0.5372549 , 0.61568627, 0.49411765],\n",
       "         ...,\n",
       "         [0.2745098 , 0.32941176, 0.1254902 ],\n",
       "         [0.29019608, 0.34901961, 0.14901961],\n",
       "         [0.2627451 , 0.32156863, 0.1254902 ]],\n",
       "\n",
       "        [[0.56078431, 0.65882353, 0.49411765],\n",
       "         [0.60392157, 0.70196078, 0.53333333],\n",
       "         [0.65098039, 0.75294118, 0.58431373],\n",
       "         ...,\n",
       "         [0.28627451, 0.34509804, 0.1372549 ],\n",
       "         [0.28235294, 0.34117647, 0.1372549 ],\n",
       "         [0.2745098 , 0.34117647, 0.1372549 ]],\n",
       "\n",
       "        [[0.61568627, 0.72156863, 0.52941176],\n",
       "         [0.66666667, 0.77647059, 0.57647059],\n",
       "         [0.69803922, 0.8       , 0.61568627],\n",
       "         ...,\n",
       "         [0.29803922, 0.35294118, 0.14901961],\n",
       "         [0.31372549, 0.37254902, 0.16862745],\n",
       "         [0.29411765, 0.36078431, 0.15686275]],\n",
       "\n",
       "        ...,\n",
       "\n",
       "        [[0.3254902 , 0.40392157, 0.16078431],\n",
       "         [0.17254902, 0.23529412, 0.03529412],\n",
       "         [0.14509804, 0.19215686, 0.        ],\n",
       "         ...,\n",
       "         [0.64705882, 0.58431373, 0.48235294],\n",
       "         [0.60392157, 0.54509804, 0.44313725],\n",
       "         [0.56078431, 0.50196078, 0.40784314]],\n",
       "\n",
       "        [[0.38431373, 0.44705882, 0.21960784],\n",
       "         [0.28627451, 0.34509804, 0.10588235],\n",
       "         [0.25098039, 0.30980392, 0.04313725],\n",
       "         ...,\n",
       "         [0.64313725, 0.58039216, 0.47843137],\n",
       "         [0.62745098, 0.56862745, 0.47058824],\n",
       "         [0.56470588, 0.50588235, 0.41960784]],\n",
       "\n",
       "        [[0.27843137, 0.3254902 , 0.10588235],\n",
       "         [0.30196078, 0.36470588, 0.09803922],\n",
       "         [0.33333333, 0.41568627, 0.08235294],\n",
       "         ...,\n",
       "         [0.57647059, 0.51372549, 0.42745098],\n",
       "         [0.63137255, 0.56862745, 0.47843137],\n",
       "         [0.57647059, 0.52156863, 0.42745098]]],\n",
       "\n",
       "\n",
       "       [[[0.20392157, 0.25882353, 0.0627451 ],\n",
       "         [0.21176471, 0.26666667, 0.10588235],\n",
       "         [0.20784314, 0.2627451 , 0.14117647],\n",
       "         ...,\n",
       "         [0.10588235, 0.15294118, 0.04313725],\n",
       "         [0.15294118, 0.22352941, 0.08627451],\n",
       "         [0.16862745, 0.25098039, 0.09411765]],\n",
       "\n",
       "        [[0.2       , 0.2627451 , 0.05490196],\n",
       "         [0.21960784, 0.26666667, 0.09803922],\n",
       "         [0.21960784, 0.25098039, 0.12941176],\n",
       "         ...,\n",
       "         [0.1372549 , 0.19215686, 0.07843137],\n",
       "         [0.17647059, 0.25490196, 0.10980392],\n",
       "         [0.18039216, 0.2627451 , 0.10980392]],\n",
       "\n",
       "        [[0.24313725, 0.29411765, 0.10196078],\n",
       "         [0.24313725, 0.28235294, 0.11372549],\n",
       "         [0.22745098, 0.24705882, 0.12156863],\n",
       "         ...,\n",
       "         [0.1254902 , 0.16470588, 0.08235294],\n",
       "         [0.16078431, 0.22745098, 0.10196078],\n",
       "         [0.17647059, 0.25098039, 0.10196078]],\n",
       "\n",
       "        ...,\n",
       "\n",
       "        [[0.76078431, 0.81568627, 0.73333333],\n",
       "         [0.75294118, 0.81176471, 0.72941176],\n",
       "         [0.72941176, 0.79215686, 0.72941176],\n",
       "         ...,\n",
       "         [0.43137255, 0.47058824, 0.2745098 ],\n",
       "         [0.69019608, 0.80784314, 0.44313725],\n",
       "         [0.8       , 0.92941176, 0.52941176]],\n",
       "\n",
       "        [[0.78039216, 0.83921569, 0.76470588],\n",
       "         [0.71372549, 0.78039216, 0.70588235],\n",
       "         [0.73333333, 0.8       , 0.74117647],\n",
       "         ...,\n",
       "         [0.28627451, 0.28627451, 0.19215686],\n",
       "         [0.55686275, 0.63137255, 0.3372549 ],\n",
       "         [0.76470588, 0.8745098 , 0.48235294]],\n",
       "\n",
       "        [[0.71764706, 0.78431373, 0.70980392],\n",
       "         [0.7254902 , 0.79215686, 0.72941176],\n",
       "         [0.73333333, 0.8       , 0.74117647],\n",
       "         ...,\n",
       "         [0.21176471, 0.21568627, 0.15294118],\n",
       "         [0.38431373, 0.41960784, 0.21960784],\n",
       "         [0.59215686, 0.6627451 , 0.34901961]]],\n",
       "\n",
       "\n",
       "       [[[0.49019608, 0.59607843, 0.35294118],\n",
       "         [0.50196078, 0.6       , 0.36078431],\n",
       "         [0.50588235, 0.60392157, 0.36078431],\n",
       "         ...,\n",
       "         [0.2627451 , 0.3372549 , 0.23137255],\n",
       "         [0.25490196, 0.32941176, 0.22352941],\n",
       "         [0.24705882, 0.32156863, 0.21568627]],\n",
       "\n",
       "        [[0.49019608, 0.59607843, 0.35294118],\n",
       "         [0.48235294, 0.58431373, 0.34117647],\n",
       "         [0.50588235, 0.60784314, 0.36078431],\n",
       "         ...,\n",
       "         [0.20392157, 0.28235294, 0.17254902],\n",
       "         [0.19607843, 0.2745098 , 0.16862745],\n",
       "         [0.19215686, 0.27058824, 0.16470588]],\n",
       "\n",
       "        [[0.51372549, 0.61960784, 0.36470588],\n",
       "         [0.50196078, 0.60392157, 0.36078431],\n",
       "         [0.51372549, 0.61568627, 0.36862745],\n",
       "         ...,\n",
       "         [0.17254902, 0.24705882, 0.1254902 ],\n",
       "         [0.17254902, 0.24705882, 0.1254902 ],\n",
       "         [0.17254902, 0.24705882, 0.1254902 ]],\n",
       "\n",
       "        ...,\n",
       "\n",
       "        [[0.2745098 , 0.3254902 , 0.17254902],\n",
       "         [0.21960784, 0.28627451, 0.11764706],\n",
       "         [0.20784314, 0.2745098 , 0.10980392],\n",
       "         ...,\n",
       "         [0.4       , 0.39607843, 0.31764706],\n",
       "         [0.41568627, 0.41176471, 0.33333333],\n",
       "         [0.43137255, 0.42745098, 0.34901961]],\n",
       "\n",
       "        [[0.29019608, 0.32941176, 0.18039216],\n",
       "         [0.21568627, 0.27843137, 0.11372549],\n",
       "         [0.21960784, 0.28627451, 0.12156863],\n",
       "         ...,\n",
       "         [0.39215686, 0.38823529, 0.30980392],\n",
       "         [0.41568627, 0.41176471, 0.33333333],\n",
       "         [0.43137255, 0.42745098, 0.34901961]],\n",
       "\n",
       "        [[0.28235294, 0.31372549, 0.16470588],\n",
       "         [0.19607843, 0.25882353, 0.09411765],\n",
       "         [0.18039216, 0.24705882, 0.07843137],\n",
       "         ...,\n",
       "         [0.39607843, 0.38823529, 0.31372549],\n",
       "         [0.41176471, 0.4       , 0.3254902 ],\n",
       "         [0.42745098, 0.41960784, 0.34509804]]]])"
      ]
     },
     "execution_count": 14,
     "metadata": {},
     "output_type": "execute_result"
    }
   ],
   "source": [
    "X"
   ]
  },
  {
   "cell_type": "code",
   "execution_count": 16,
   "id": "lfSPLCF8Lo7Y",
   "metadata": {
    "colab": {
     "base_uri": "https://localhost:8080/"
    },
    "id": "lfSPLCF8Lo7Y",
    "outputId": "588d9e06-6d7b-4db6-8bd7-2e994180fc96"
   },
   "outputs": [
    {
     "data": {
      "text/plain": [
       "786"
      ]
     },
     "execution_count": 16,
     "metadata": {},
     "output_type": "execute_result"
    }
   ],
   "source": [
    "len(X)"
   ]
  },
  {
   "cell_type": "code",
   "execution_count": 17,
   "id": "mzkstlmrLpIJ",
   "metadata": {
    "colab": {
     "base_uri": "https://localhost:8080/"
    },
    "id": "mzkstlmrLpIJ",
    "outputId": "e0ea82c2-b675-498d-fda5-d45036adfa4f"
   },
   "outputs": [
    {
     "data": {
      "text/plain": [
       "786"
      ]
     },
     "execution_count": 17,
     "metadata": {},
     "output_type": "execute_result"
    }
   ],
   "source": [
    "len(y)"
   ]
  },
  {
   "cell_type": "markdown",
   "id": "3ec5a94c",
   "metadata": {},
   "source": [
    "# Encode labels"
   ]
  },
  {
   "cell_type": "code",
   "execution_count": 18,
   "id": "AL9Gg6gmLFsj",
   "metadata": {
    "id": "AL9Gg6gmLFsj"
   },
   "outputs": [],
   "source": [
    "# Encode labels\n",
    "encoder = LabelEncoder()\n",
    "y = encoder.fit_transform(y)\n",
    "# Split data into training and testing sets\n",
    "X_train, X_test, y_train, y_test = train_test_split(X, y, test_size=0.2)"
   ]
  },
  {
   "cell_type": "code",
   "execution_count": 19,
   "id": "KkdKuDgpMB4m",
   "metadata": {
    "colab": {
     "base_uri": "https://localhost:8080/"
    },
    "id": "KkdKuDgpMB4m",
    "outputId": "557e1609-bdc1-4be4-a790-911ba4f2a127"
   },
   "outputs": [
    {
     "data": {
      "text/plain": [
       "628"
      ]
     },
     "execution_count": 19,
     "metadata": {},
     "output_type": "execute_result"
    }
   ],
   "source": [
    "len(X_train)"
   ]
  },
  {
   "cell_type": "code",
   "execution_count": 20,
   "id": "d4lONdfCNUf8",
   "metadata": {
    "colab": {
     "base_uri": "https://localhost:8080/"
    },
    "id": "d4lONdfCNUf8",
    "outputId": "0c85f8f4-aef7-4a41-e22b-0869538119ab"
   },
   "outputs": [
    {
     "data": {
      "text/plain": [
       "628"
      ]
     },
     "execution_count": 20,
     "metadata": {},
     "output_type": "execute_result"
    }
   ],
   "source": [
    "len(y_train)"
   ]
  },
  {
   "cell_type": "code",
   "execution_count": 21,
   "id": "inpilz22NY7U",
   "metadata": {
    "colab": {
     "base_uri": "https://localhost:8080/"
    },
    "id": "inpilz22NY7U",
    "outputId": "39942c00-5cd1-40ef-acfd-44deb47e6b60"
   },
   "outputs": [
    {
     "data": {
      "text/plain": [
       "158"
      ]
     },
     "execution_count": 21,
     "metadata": {},
     "output_type": "execute_result"
    }
   ],
   "source": [
    "len(y_test)"
   ]
  },
  {
   "cell_type": "code",
   "execution_count": 22,
   "id": "P9UFdfd-NZHP",
   "metadata": {
    "colab": {
     "base_uri": "https://localhost:8080/"
    },
    "id": "P9UFdfd-NZHP",
    "outputId": "26e4d1a1-4932-40ed-b90f-6af0c2c65bf7"
   },
   "outputs": [
    {
     "data": {
      "text/plain": [
       "158"
      ]
     },
     "execution_count": 22,
     "metadata": {},
     "output_type": "execute_result"
    }
   ],
   "source": [
    "len(X_test)"
   ]
  },
  {
   "cell_type": "markdown",
   "id": "2b8f602c",
   "metadata": {},
   "source": [
    "# Define model"
   ]
  },
  {
   "cell_type": "code",
   "execution_count": 52,
   "id": "MN24oC1ILWLP",
   "metadata": {
    "id": "MN24oC1ILWLP"
   },
   "outputs": [],
   "source": [
    "from keras.optimizers import Adam\n",
    "\n",
    "# Define model\n",
    "conv_base = ResNet50(weights='imagenet', include_top=False, input_shape=(256, 256, 3))\n",
    "conv_base.trainable = False\n",
    "\n",
    "model = Sequential()\n",
    "model.add(conv_base)\n",
    "model.add(Flatten())\n",
    "model.add(Dense(64, activation=\"relu\"))\n",
    "model.add(Dense(3, activation=\"softmax\"))\n",
    "\n",
    "# Define optimizer with a specific learning rate\n",
    "optimizer = Adam(learning_rate=0.01)\n",
    "# Compile model\n",
    "model.compile(loss=\"sparse_categorical_crossentropy\", metrics=['accuracy'], optimizer=optimizer)\n"
   ]
  },
  {
   "cell_type": "code",
   "execution_count": 53,
   "id": "loItLAQ1NjLl",
   "metadata": {
    "colab": {
     "base_uri": "https://localhost:8080/"
    },
    "id": "loItLAQ1NjLl",
    "outputId": "cd11f3ab-457d-4951-92e5-94d842feabba"
   },
   "outputs": [
    {
     "name": "stdout",
     "output_type": "stream",
     "text": [
      "Model: \"sequential_7\"\n",
      "_________________________________________________________________\n",
      " Layer (type)                Output Shape              Param #   \n",
      "=================================================================\n",
      " resnet50 (Functional)       (None, 8, 8, 2048)        23587712  \n",
      "                                                                 \n",
      " flatten_7 (Flatten)         (None, 131072)            0         \n",
      "                                                                 \n",
      " dense_17 (Dense)            (None, 64)                8388672   \n",
      "                                                                 \n",
      " dense_18 (Dense)            (None, 3)                 195       \n",
      "                                                                 \n",
      "=================================================================\n",
      "Total params: 31976579 (121.98 MB)\n",
      "Trainable params: 8388867 (32.00 MB)\n",
      "Non-trainable params: 23587712 (89.98 MB)\n",
      "_________________________________________________________________\n"
     ]
    }
   ],
   "source": [
    "model.summary()"
   ]
  },
  {
   "cell_type": "markdown",
   "id": "ecdc4652",
   "metadata": {},
   "source": [
    "# Train the model"
   ]
  },
  {
   "cell_type": "code",
   "execution_count": 54,
   "id": "cqNQVr0BLWWo",
   "metadata": {
    "colab": {
     "base_uri": "https://localhost:8080/"
    },
    "id": "cqNQVr0BLWWo",
    "outputId": "09bae13a-b7d6-4991-8e5d-dc08d60e1f1d"
   },
   "outputs": [
    {
     "name": "stdout",
     "output_type": "stream",
     "text": [
      "Epoch 1/15\n",
      "20/20 [==============================] - 8s 230ms/step - loss: 84.3864 - accuracy: 0.3774 - val_loss: 73.0098 - val_accuracy: 0.4304\n",
      "Epoch 2/15\n",
      "20/20 [==============================] - 3s 149ms/step - loss: 29.4512 - accuracy: 0.4188 - val_loss: 21.7023 - val_accuracy: 0.4051\n",
      "Epoch 3/15\n",
      "20/20 [==============================] - 3s 151ms/step - loss: 12.9039 - accuracy: 0.5287 - val_loss: 4.7192 - val_accuracy: 0.6266\n",
      "Epoch 4/15\n",
      "20/20 [==============================] - 3s 148ms/step - loss: 6.2025 - accuracy: 0.5828 - val_loss: 13.5056 - val_accuracy: 0.3797\n",
      "Epoch 5/15\n",
      "20/20 [==============================] - 3s 151ms/step - loss: 7.7375 - accuracy: 0.5653 - val_loss: 16.3434 - val_accuracy: 0.4873\n",
      "Epoch 6/15\n",
      "20/20 [==============================] - 3s 154ms/step - loss: 8.9868 - accuracy: 0.5271 - val_loss: 2.9828 - val_accuracy: 0.6899\n",
      "Epoch 7/15\n",
      "20/20 [==============================] - 3s 152ms/step - loss: 3.1808 - accuracy: 0.6815 - val_loss: 2.7060 - val_accuracy: 0.6772\n",
      "Epoch 8/15\n",
      "20/20 [==============================] - 3s 152ms/step - loss: 1.4565 - accuracy: 0.7532 - val_loss: 2.0077 - val_accuracy: 0.7152\n",
      "Epoch 9/15\n",
      "20/20 [==============================] - 3s 155ms/step - loss: 1.2400 - accuracy: 0.7803 - val_loss: 3.5555 - val_accuracy: 0.5886\n",
      "Epoch 10/15\n",
      "20/20 [==============================] - 3s 158ms/step - loss: 1.3059 - accuracy: 0.7484 - val_loss: 1.7202 - val_accuracy: 0.7215\n",
      "Epoch 11/15\n",
      "20/20 [==============================] - 3s 154ms/step - loss: 1.4135 - accuracy: 0.7134 - val_loss: 2.4842 - val_accuracy: 0.6709\n",
      "Epoch 12/15\n",
      "20/20 [==============================] - 3s 155ms/step - loss: 1.1586 - accuracy: 0.7532 - val_loss: 1.8601 - val_accuracy: 0.6392\n",
      "Epoch 13/15\n",
      "20/20 [==============================] - 3s 155ms/step - loss: 1.1169 - accuracy: 0.7357 - val_loss: 1.4558 - val_accuracy: 0.7215\n",
      "Epoch 14/15\n",
      "20/20 [==============================] - 3s 158ms/step - loss: 0.7318 - accuracy: 0.8073 - val_loss: 1.0928 - val_accuracy: 0.7405\n",
      "Epoch 15/15\n",
      "20/20 [==============================] - 3s 156ms/step - loss: 0.4938 - accuracy: 0.8551 - val_loss: 1.0040 - val_accuracy: 0.7785\n"
     ]
    }
   ],
   "source": [
    "# Train the model\n",
    "history = model.fit(X_train, y_train, batch_size=32, epochs=15, validation_data=(X_test, y_test))"
   ]
  },
  {
   "cell_type": "markdown",
   "id": "ebee0632",
   "metadata": {},
   "source": [
    "# Evaluate the model"
   ]
  },
  {
   "cell_type": "code",
   "execution_count": 55,
   "id": "zAfiJOP1LWck",
   "metadata": {
    "colab": {
     "base_uri": "https://localhost:8080/"
    },
    "id": "zAfiJOP1LWck",
    "outputId": "e5304861-598c-49de-e826-1ced5d135328"
   },
   "outputs": [
    {
     "name": "stdout",
     "output_type": "stream",
     "text": [
      "5/5 [==============================] - 1s 119ms/step - loss: 1.0040 - accuracy: 0.7785\n",
      "Test Loss: 1.004010558128357\n",
      "Test Accuracy: 0.7784810066223145\n"
     ]
    }
   ],
   "source": [
    "# Evaluate the model\n",
    "loss, accuracy = model.evaluate(X_test, y_test)\n",
    "print(\"Test Loss:\", loss)\n",
    "print(\"Test Accuracy:\", accuracy)\n"
   ]
  },
  {
   "cell_type": "code",
   "execution_count": 56,
   "id": "x1sL9HAOLWje",
   "metadata": {
    "colab": {
     "base_uri": "https://localhost:8080/",
     "height": 927
    },
    "id": "x1sL9HAOLWje",
    "outputId": "b84489f1-ffbb-4c33-da5a-e35dd8ad53d6"
   },
   "outputs": [
    {
     "data": {
      "image/png": "[encoded data removed]",
      "text/plain": [
       "<Figure size 640x480 with 1 Axes>"
      ]
     },
     "metadata": {},
     "output_type": "display_data"
    },
    {
     "data": {
      "image/png": "[encoded data removed]",
      "text/plain": [
       "<Figure size 640x480 with 1 Axes>"
      ]
     },
     "metadata": {},
     "output_type": "display_data"
    }
   ],
   "source": [
    "import matplotlib.pyplot as plt\n",
    "\n",
    "# Plot training and validation accuracy\n",
    "plt.plot(history.history['accuracy'], label='Training Accuracy')\n",
    "plt.plot(history.history['val_accuracy'], label='Validation Accuracy')\n",
    "plt.title('Training and Validation Accuracy')\n",
    "plt.xlabel('Epoch')\n",
    "plt.ylabel('Accuracy')\n",
    "plt.legend()\n",
    "plt.show()\n",
    "\n",
    "# Plot training and validation loss\n",
    "plt.plot(history.history['loss'], label='Training Loss')\n",
    "plt.plot(history.history['val_loss'], label='Validation Loss')\n",
    "plt.title('Training and Validation Loss')\n",
    "plt.xlabel('Epoch')\n",
    "plt.ylabel('Loss')\n",
    "plt.legend()\n",
    "plt.show()\n"
   ]
  },
  {
   "cell_type": "markdown",
   "id": "8fdbb716",
   "metadata": {},
   "source": [
    "# Plot confusion matrix"
   ]
  },
  {
   "cell_type": "code",
   "execution_count": 57,
   "id": "ux07gGu0LWqS",
   "metadata": {
    "colab": {
     "base_uri": "https://localhost:8080/",
     "height": 581
    },
    "id": "ux07gGu0LWqS",
    "outputId": "e531f438-9691-4762-ae92-35feb2eea4a7"
   },
   "outputs": [
    {
     "name": "stdout",
     "output_type": "stream",
     "text": [
      "5/5 [==============================] - 2s 131ms/step\n"
     ]
    },
    {
     "data": {
      "image/png": "[encoded data removed]",
      "text/plain": [
       "<Figure size 800x600 with 2 Axes>"
      ]
     },
     "metadata": {},
     "output_type": "display_data"
    }
   ],
   "source": [
    "from sklearn.metrics import confusion_matrix\n",
    "import seaborn as sns\n",
    "\n",
    "# Predict labels for test set\n",
    "y_pred = model.predict(X_test)\n",
    "y_pred_classes = np.argmax(y_pred, axis=1)\n",
    "\n",
    "# Calculate confusion matrix\n",
    "conf_matrix = confusion_matrix(y_test, y_pred_classes)\n",
    "\n",
    "# Plot confusion matrix\n",
    "plt.figure(figsize=(8, 6))\n",
    "sns.heatmap(conf_matrix, annot=True, fmt='d', cmap='Blues',\n",
    "            xticklabels=['gls', 'nlb', 'nls'],\n",
    "            yticklabels=['gls', 'nlb', 'nls'])\n",
    "plt.title('Confusion Matrix')\n",
    "plt.xlabel('Predicted Labels')\n",
    "plt.ylabel('True Labels')\n",
    "plt.show()\n"
   ]
  },
  {
   "cell_type": "markdown",
   "id": "4e19f238",
   "metadata": {},
   "source": [
    "# classification report"
   ]
  },
  {
   "cell_type": "code",
   "execution_count": 58,
   "id": "yiysvNeYwdYU",
   "metadata": {
    "colab": {
     "base_uri": "https://localhost:8080/"
    },
    "id": "yiysvNeYwdYU",
    "outputId": "d36d7c63-5d69-4b5b-b763-72b71f211984"
   },
   "outputs": [
    {
     "name": "stdout",
     "output_type": "stream",
     "text": [
      "Classification Report:\n",
      "              precision    recall  f1-score   support\n",
      "\n",
      "         gls       0.77      0.77      0.77        56\n",
      "         nlb       0.79      0.71      0.75        52\n",
      "         nls       0.78      0.86      0.82        50\n",
      "\n",
      "    accuracy                           0.78       158\n",
      "   macro avg       0.78      0.78      0.78       158\n",
      "weighted avg       0.78      0.78      0.78       158\n",
      "\n"
     ]
    }
   ],
   "source": [
    "from sklearn.metrics import classification_report\n",
    "\n",
    "# Generate classification report\n",
    "class_report = classification_report(y_test, y_pred_classes, target_names=['gls', 'nlb', 'nls'])\n",
    "\n",
    "# Print classification report\n",
    "print(\"Classification Report:\")\n",
    "print(class_report)\n"
   ]
  },
  {
   "cell_type": "markdown",
   "id": "c5453d67",
   "metadata": {},
   "source": [
    "# predictions"
   ]
  },
  {
   "cell_type": "code",
   "execution_count": 59,
   "id": "KS-dj2rVwdeh",
   "metadata": {
    "colab": {
     "base_uri": "https://localhost:8080/"
    },
    "id": "KS-dj2rVwdeh",
    "outputId": "6ac9e2d2-f278-4790-c51e-4fd07ab08146"
   },
   "outputs": [
    {
     "name": "stdout",
     "output_type": "stream",
     "text": [
      "1/1 [==============================] - 0s 48ms/step\n",
      "Predicted Labels: ['nls', 'nlb', 'nlb', 'nlb', 'nlb', 'nlb', 'gls', 'nlb', 'gls', 'gls']\n",
      "True Labels: ['nls', 'nlb', 'nlb', 'gls', 'nlb', 'nlb', 'gls', 'gls', 'gls', 'gls']\n"
     ]
    }
   ],
   "source": [
    "# Select some samples from the test set\n",
    "num_samples = 10\n",
    "sample_indices = np.random.choice(len(X_test), num_samples, replace=False)\n",
    "X_sample = X_test[sample_indices]\n",
    "y_true = y_test[sample_indices]\n",
    "\n",
    "# Make predictions\n",
    "y_pred = model.predict(X_sample)\n",
    "y_pred_classes = np.argmax(y_pred, axis=1)\n",
    "\n",
    "# Convert class indices to class labels\n",
    "class_labels = ['gls', 'nlb', 'nls']\n",
    "y_pred_labels = [class_labels[idx] for idx in y_pred_classes]\n",
    "y_true_labels = [class_labels[idx] for idx in y_true]\n",
    "\n",
    "# Print predicted and true values\n",
    "print(\"Predicted Labels:\", y_pred_labels)\n",
    "print(\"True Labels:\", y_true_labels)\n"
   ]
  },
  {
   "cell_type": "code",
   "execution_count": null,
   "id": "SahofYhSwdls",
   "metadata": {
    "id": "SahofYhSwdls"
   },
   "outputs": [],
   "source": []
  },
  {
   "cell_type": "code",
   "execution_count": null,
   "id": "36f-4A9BwduT",
   "metadata": {
    "id": "36f-4A9BwduT"
   },
   "outputs": [],
   "source": []
  },
  {
   "cell_type": "code",
   "execution_count": null,
   "id": "c441d2ed",
   "metadata": {
    "id": "c441d2ed"
   },
   "outputs": [],
   "source": []
  }
 ],
 "metadata": {
  "accelerator": "GPU",
  "colab": {
   "gpuType": "T4",
   "provenance": []
  },
  "kernelspec": {
   "display_name": "Python 3 (ipykernel)",
   "language": "python",
   "name": "python3"
  },
  "language_info": {
   "codemirror_mode": {
    "name": "ipython",
    "version": 3
   },
   "file_extension": ".py",
   "mimetype": "text/x-python",
   "name": "python",
   "nbconvert_exporter": "python",
   "pygments_lexer": "ipython3",
   "version": "3.9.12"
  }
 },
 "nbformat": 4,
 "nbformat_minor": 5
}
